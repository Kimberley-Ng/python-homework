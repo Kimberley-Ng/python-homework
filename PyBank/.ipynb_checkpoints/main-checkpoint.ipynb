{
 "cells": [
  {
   "cell_type": "code",
   "execution_count": 964,
   "metadata": {},
   "outputs": [
    {
     "data": {
      "text/plain": [
       "' Week 2 Homework - PyBank\\n\\nThis script will analyse budget_data to calculate:\\n\\n* total number of months included in the dataset.\\n* net total amount of Profit/Losses over the entire period.\\n* average of the changes in Profit/Losses over the entire period.\\n* greatest increase in profits (date and amount) over the entire period.\\n* greatest decrease in losses (date and amount) over the entire period.\\n\\n'"
      ]
     },
     "execution_count": 964,
     "metadata": {},
     "output_type": "execute_result"
    }
   ],
   "source": [
    "\"\"\" Week 2 Homework - PyBank\n",
    "\n",
    "This script will analyse budget_data to calculate:\n",
    "\n",
    "* total number of months included in the dataset.\n",
    "* net total amount of Profit/Losses over the entire period.\n",
    "* average of the changes in Profit/Losses over the entire period.\n",
    "* greatest increase in profits (date and amount) over the entire period.\n",
    "* greatest decrease in losses (date and amount) over the entire period.\n",
    "\n",
    "\"\"\""
   ]
  },
  {
   "cell_type": "code",
   "execution_count": 965,
   "metadata": {},
   "outputs": [],
   "source": [
    "# Import modules\n",
    "\n",
    "from pathlib import Path\n",
    "import csv"
   ]
  },
  {
   "cell_type": "code",
   "execution_count": 966,
   "metadata": {},
   "outputs": [],
   "source": [
    "# Set file path\n",
    "\n",
    "budget_csvpath = Path(\"../../python-homework/budget_data.csv\")"
   ]
  },
  {
   "cell_type": "code",
   "execution_count": 1006,
   "metadata": {},
   "outputs": [],
   "source": [
    "# Initialise variables re average and total months\n",
    "\n",
    "total_months = 0\n",
    "pnl_total = 0\n",
    "\n",
    "# Initialise variables re average change and greatest increase/decrease  \n",
    "\n",
    "previous_revenue = 0\n",
    "revenue_change = 0\n",
    "previous_revenue = 0\n",
    "\n",
    "max_value = 0\n",
    "min_value = 0\n",
    "\n",
    "# Initialise lists to store revenue change and month of change\n",
    "\n",
    "revenue_change_ls = []"
   ]
  },
  {
   "cell_type": "code",
   "execution_count": 1007,
   "metadata": {},
   "outputs": [],
   "source": [
    "# Open csv file in 'read' mode\n",
    "\n",
    "with open(budget_csvpath, 'r') as csvfile:\n",
    "\n",
    "# Pass in the csv file to the csv.reader() function with ',' as the delmiter \n",
    "\n",
    "    csvreader = csv.reader(csvfile, delimiter = ',')\n",
    "\n",
    "# Read header row first\n",
    "    csv_header = next(csvreader)\n",
    "    first_row_data = next(csvreader)\n",
    "    total_months = total_months +1\n",
    "    previous_revenue = float(first_row_data[1])\n",
    "    \n",
    "    for row in csvreader:\n",
    "        \n",
    "        revenue_change_dict = {}\n",
    "\n",
    "# Sum the total months in budget_data.csv\n",
    "        total_months += 1\n",
    "    \n",
    "# Calculate total revenue over period. Set 'pnl' variable for better readability by converting strings into ints\n",
    "        pnl = float(row[1])\n",
    "        pnl_total += float(row[1])\n",
    "\n",
    "# Calculate average change over entire period (part 1 of 2)\n",
    "    # change type to float because of decimimal points\n",
    "        \n",
    "        revenue_change = pnl - previous_revenue\n",
    "        revenue_change_dict['month of change'] = row[0]\n",
    "        revenue_change_dict['revenue change'] = revenue_change\n",
    "        revenue_change_ls.append(revenue_change_dict)"
   ]
  },
  {
   "cell_type": "code",
   "execution_count": 1008,
   "metadata": {},
   "outputs": [],
   "source": [
    "average_revenue_change = revenue_change/len(revenue_change_ls)\n",
    "revenue_change_rnd = round(average_revenue_change, 2)"
   ]
  },
  {
   "cell_type": "code",
   "execution_count": 1009,
   "metadata": {
    "tags": []
   },
   "outputs": [],
   "source": [
    "# Calculate greatest increase in revenue (date and amount) over the entire period\n",
    "    # Find maximum value in dict for greatest revenue change by iterating over the list find max value\n",
    "\n",
    "for value in revenue_change_ls:\n",
    "    if min_value == 0:\n",
    "        min_value = float(value[\"revenue change\"])\n",
    "    elif float(value[\"revenue change\"]) < min_value:\n",
    "        min_value = float(value[\"revenue change\"])\n",
    "    \n",
    "# Calculate greatest decrease in revenue (date and amount) over the entire period\n",
    "    # Find minimum value in dict for greatest revenue change by iterating over the dictionary to find max key-value pair\n",
    "\n",
    "    elif int(value[\"revenue change\"])> max_value:\n",
    "        max_value = float(value[\"revenue change\"])\n"
   ]
  },
  {
   "cell_type": "code",
   "execution_count": null,
   "metadata": {},
   "outputs": [],
   "source": []
  },
  {
   "cell_type": "code",
   "execution_count": 1021,
   "metadata": {},
   "outputs": [
    {
     "name": "stdout",
     "output_type": "stream",
     "text": [
      "{'month of change': 'Sep-2013', 'revenue change': -2064109.0}\n",
      "{'month of change': 'Feb-2012', 'revenue change': 302709.0}\n"
     ]
    }
   ],
   "source": [
    "for month_of_min_value in revenue_change_ls:\n",
    "    if month_of_min_value[\"revenue change\"] == min_value:\n",
    "        print(month_of_min_value)\n",
    "\n",
    "for month_of_max_value in revenue_change_ls:\n",
    "    if month_of_max_value[\"revenue change\"] == max_value:\n",
    "        print(month_of_max_value)"
   ]
  },
  {
   "cell_type": "code",
   "execution_count": 1024,
   "metadata": {},
   "outputs": [
    {
     "ename": "TypeError",
     "evalue": "list indices must be integers or slices, not dict",
     "output_type": "error",
     "traceback": [
      "\u001b[0;31m---------------------------------------------------------------------------\u001b[0m",
      "\u001b[0;31mTypeError\u001b[0m                                 Traceback (most recent call last)",
      "\u001b[0;32m<ipython-input-1024-af1db56873a4>\u001b[0m in \u001b[0;36m<module>\u001b[0;34m\u001b[0m\n\u001b[1;32m      1\u001b[0m \u001b[0;31m# Retreive key of min value to find corresponding month of change\u001b[0m\u001b[0;34m\u001b[0m\u001b[0;34m\u001b[0m\u001b[0;34m\u001b[0m\u001b[0m\n\u001b[1;32m      2\u001b[0m \u001b[0;34m\u001b[0m\u001b[0m\n\u001b[0;32m----> 3\u001b[0;31m \u001b[0mmonth\u001b[0m \u001b[0;34m=\u001b[0m \u001b[0mrevenue_change_ls\u001b[0m\u001b[0;34m[\u001b[0m\u001b[0mmonth_of_min_value\u001b[0m\u001b[0;34m]\u001b[0m\u001b[0;34m[\u001b[0m\u001b[0;34m\"month of change\"\u001b[0m\u001b[0;34m]\u001b[0m\u001b[0;34m\u001b[0m\u001b[0;34m\u001b[0m\u001b[0m\n\u001b[0m",
      "\u001b[0;31mTypeError\u001b[0m: list indices must be integers or slices, not dict"
     ]
    }
   ],
   "source": [
    "# Retreive key of min value to find corresponding month of change\n",
    "\n",
    "month = revenue_change_ls[month_of_min_value][\"month of change\"]"
   ]
  },
  {
   "cell_type": "code",
   "execution_count": 990,
   "metadata": {},
   "outputs": [],
   "source": [
    "# Set output file name\n",
    "\n",
    "output_path = \"output.txt\""
   ]
  },
  {
   "cell_type": "code",
   "execution_count": 991,
   "metadata": {},
   "outputs": [],
   "source": [
    "# Open output path as file object and write changes to output.txt\n",
    "\n",
    "with open(output_path, 'w') as csvfile:\n",
    "    csvfile.write(f\"Total Months: {total_months}\\n\")\n",
    "    csvfile.write(f\"Total ${pnl_total}\\n\")\n",
    "    csvfile.write(f\"Average Change: ${average_revenue_change_rnd}\\n\")\n",
    "    csvfile.write(f\"Greatest Increase in Profits: {month_of_max_value} (${max_value})\\n\")\n",
    "    csvfile.write(f\"Greatest Decrease in Profits: {month_of_min_value} (${min_value})\\n\")"
   ]
  },
  {
   "cell_type": "code",
   "execution_count": null,
   "metadata": {},
   "outputs": [],
   "source": []
  },
  {
   "cell_type": "code",
   "execution_count": null,
   "metadata": {},
   "outputs": [],
   "source": []
  }
 ],
 "metadata": {
  "interpreter": {
   "hash": "4396f389b93e7269692bd3bea4c62813bbe379469bde939b058805f538feec11"
  },
  "kernelspec": {
   "display_name": "Python 3",
   "language": "python",
   "name": "python3"
  },
  "language_info": {
   "codemirror_mode": {
    "name": "ipython",
    "version": 3
   },
   "file_extension": ".py",
   "mimetype": "text/x-python",
   "name": "python",
   "nbconvert_exporter": "python",
   "pygments_lexer": "ipython3",
   "version": "3.8.8"
  }
 },
 "nbformat": 4,
 "nbformat_minor": 4
}
