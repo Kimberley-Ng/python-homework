{
 "cells": [
  {
   "cell_type": "code",
   "execution_count": 1314,
   "metadata": {},
   "outputs": [
    {
     "data": {
      "text/plain": [
       "' Week 2 Homework - PyBank\\n\\nThis script will analyse budget_data to calculate:\\n\\n* total number of months included in the dataset.\\n* net total amount of Profit/Losses over the entire period.\\n* average of the changes in Profit/Losses over the entire period.\\n* greatest increase in profits (date and amount) over the entire period.\\n* greatest decrease in losses (date and amount) over the entire period.\\n\\n'"
      ]
     },
     "execution_count": 1314,
     "metadata": {},
     "output_type": "execute_result"
    }
   ],
   "source": [
    "\"\"\" Week 2 Homework - PyBank\n",
    "\n",
    "This script will analyse budget_data to calculate:\n",
    "\n",
    "* total number of months included in the dataset.\n",
    "* net total amount of Profit/Losses over the entire period.\n",
    "* average of the changes in Profit/Losses over the entire period.\n",
    "* greatest increase in profits (date and amount) over the entire period.\n",
    "* greatest decrease in losses (date and amount) over the entire period.\n",
    "\n",
    "\"\"\""
   ]
  },
  {
   "cell_type": "code",
   "execution_count": 1315,
   "metadata": {},
   "outputs": [],
   "source": [
    "# Import modules\n",
    "from pathlib import Path\n",
    "import csv"
   ]
  },
  {
   "cell_type": "code",
   "execution_count": 1316,
   "metadata": {},
   "outputs": [],
   "source": [
    "# Set file path\n",
    "budget_csvpath = Path(\"../../python-homework/budget_data.csv\")"
   ]
  },
  {
   "cell_type": "code",
   "execution_count": 1317,
   "metadata": {},
   "outputs": [],
   "source": [
    "# Initialise variables for:\n",
    "\n",
    "    # total revenue and months\n",
    "total_months = 0\n",
    "pnl_total = 0\n",
    "\n",
    "    # greatest increase and decrease in Profit/Loss\n",
    "previous_revenue = 0\n",
    "revenue_change = 0\n",
    "max_value = 0\n",
    "min_value = 0\n",
    "\n",
    "# Initialise list to store data\n",
    "\n",
    "revenue_change_ls = []\n",
    "month_of_change_ls = []\n",
    "greatest_decrease_ls =[\"\", min_value]\n",
    "greatest_increase_ls = [\"\", max_value]"
   ]
  },
  {
   "cell_type": "code",
   "execution_count": 1318,
   "metadata": {},
   "outputs": [],
   "source": [
    "# Open csv file in 'read' mode\n",
    "\n",
    "with open(budget_csvpath, 'r') as csvfile:\n",
    "\n",
    "# Pass in the csv file to the csv.reader() function with ',' as the delmiter \n",
    "\n",
    "    csvreader = csv.reader(csvfile, delimiter = ',')\n",
    "\n",
    "# Skip the header row and first data row (because there is no previous period to compare to)\n",
    "    csv_header = next(csvreader)\n",
    "    first_row_data = next(csvreader)\n",
    "    total_months = total_months +1\n",
    "    previous_revenue = float(first_row_data[1])\n",
    "    \n",
    "    for row in csvreader:\n",
    "\n",
    "# Count the total months\n",
    "        total_months += 1\n",
    "\n",
    "# Calculate total revenue over period\n",
    "        pnl = int(row[1])\n",
    "        pnl_total += pnl\n",
    "\n",
    "        revenue_change = float(row[1]) - previous_revenue\n",
    "        revenue_change_ls += [revenue_change]\n",
    "        month_of_change_ls += row[0]\n",
    "        \n",
    "        if revenue_change > greatest_increase_ls[1]:\n",
    "            greatest_increase_ls[1] = revenue_change\n",
    "            greatest_increase_ls[0] = row[0]\n",
    "        if revenue_change < greatest_decrease_ls[1]:\n",
    "            greatest_decrease_ls[1] = revenue_change\n",
    "            greatest_decrease_ls[0] = row[0]"
   ]
  },
  {
   "cell_type": "code",
   "execution_count": 1319,
   "metadata": {
    "tags": []
   },
   "outputs": [
    {
     "name": "stdout",
     "output_type": "stream",
     "text": [
      "Sep-2013\n"
     ]
    }
   ],
   "source": [
    "# Find greatest revenue decrease by iterating over the list find max value\n",
    "print(greatest_decrease_ls[0])"
   ]
  },
  {
   "cell_type": "code",
   "execution_count": 1320,
   "metadata": {},
   "outputs": [
    {
     "data": {
      "text/plain": [
       "'Feb-2012'"
      ]
     },
     "execution_count": 1320,
     "metadata": {},
     "output_type": "execute_result"
    }
   ],
   "source": [
    "greatest_increase_ls[0]"
   ]
  },
  {
   "cell_type": "code",
   "execution_count": 1321,
   "metadata": {},
   "outputs": [],
   "source": [
    "# Find greatest revenue decrease by iterating over the list find max value\n",
    "for value in revenue_change_ls:\n",
    "    if min_value == 0:\n",
    "        min_value = value\n",
    "    elif value < min_value:\n",
    "        min_value = value\n",
    "    \n",
    "# Find greatest revenue increase by iterating over the list to find min value\n",
    "    elif value > max_value:\n",
    "        max_value = value"
   ]
  },
  {
   "cell_type": "code",
   "execution_count": 1322,
   "metadata": {},
   "outputs": [
    {
     "name": "stdout",
     "output_type": "stream",
     "text": [
      "302709.0\n",
      "-2064109.0\n"
     ]
    }
   ],
   "source": [
    "# Calculate revenue change over the entire period\n",
    "print(max_value)\n",
    "print(min_value)\n",
    "# Calculate average change over entire period \n",
    "average_revenue_change = revenue_change/len(revenue_change_ls)\n",
    "revenue_change_rnd = round(average_revenue_change, 2)"
   ]
  },
  {
   "cell_type": "code",
   "execution_count": 1323,
   "metadata": {},
   "outputs": [],
   "source": [
    "# Set output file name\n",
    "output_path = \"output.txt\""
   ]
  },
  {
   "cell_type": "code",
   "execution_count": 1324,
   "metadata": {},
   "outputs": [],
   "source": [
    "# Open output path as file object and write changes to output.txt\n",
    "\n",
    "with open(output_path, 'w') as csvfile:\n",
    "    csvfile.write(f\"Total Months: {total_months}\\n\")\n",
    "    csvfile.write(f\"Total ${pnl_total}\\n\")\n",
    "    csvfile.write(f\"Average Change: ${average_revenue_change_rnd}\\n\")\n",
    "    csvfile.write(f\"Greatest Increase in Profits: {greatest_increase_ls[0]} (${max_value})\\n\")\n",
    "    csvfile.write(f\"Greatest Decrease in Profits: {greatest_decrease_ls[0]} (${min_value})\\n\")"
   ]
  },
  {
   "cell_type": "code",
   "execution_count": null,
   "metadata": {},
   "outputs": [],
   "source": []
  },
  {
   "cell_type": "code",
   "execution_count": null,
   "metadata": {},
   "outputs": [],
   "source": []
  }
 ],
 "metadata": {
  "interpreter": {
   "hash": "4396f389b93e7269692bd3bea4c62813bbe379469bde939b058805f538feec11"
  },
  "kernelspec": {
   "display_name": "Python 3",
   "language": "python",
   "name": "python3"
  },
  "language_info": {
   "codemirror_mode": {
    "name": "ipython",
    "version": 3
   },
   "file_extension": ".py",
   "mimetype": "text/x-python",
   "name": "python",
   "nbconvert_exporter": "python",
   "pygments_lexer": "ipython3",
   "version": "3.8.8"
  }
 },
 "nbformat": 4,
 "nbformat_minor": 4
}
