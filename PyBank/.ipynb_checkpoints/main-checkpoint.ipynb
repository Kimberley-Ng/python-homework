{
 "cells": [
  {
   "cell_type": "markdown",
   "metadata": {},
   "source": [
    "Week 2 Homework - PyBank\n",
    "\n",
    "This script will analyse budget_data to calculate:\n",
    "\n",
    "* total number of months included in the dataset.\n",
    "* net total amount of Profit/Losses over the entire period.\n",
    "* average of the changes in Profit/Losses over the entire period.\n",
    "* greatest increase in profits (date and amount) over the entire period.\n",
    "* greatest decrease in losses (date and amount) over the entire period."
   ]
  },
  {
   "cell_type": "code",
   "execution_count": 60,
   "metadata": {},
   "outputs": [],
   "source": [
    "# Import modules\n",
    "from pathlib import Path\n",
    "import csv"
   ]
  },
  {
   "cell_type": "code",
   "execution_count": 61,
   "metadata": {},
   "outputs": [],
   "source": [
    "# Set file path\n",
    "budget_csvpath = Path(\"../../python-homework/budget_data.csv\")"
   ]
  },
  {
   "cell_type": "code",
   "execution_count": 62,
   "metadata": {},
   "outputs": [],
   "source": [
    "# Initialise variables for:\n",
    "\n",
    "    # total revenue and months\n",
    "total_months = 0\n",
    "pnl_total = 0\n",
    "\n",
    "    # greatest increase and decrease in Profit/Loss\n",
    "previous_revenue = 0\n",
    "revenue_change = 0\n",
    "max_value = 0\n",
    "min_value = 0\n",
    "\n",
    "# Initialise lists to store data\n",
    "\n",
    "revenue_change_ls = []\n",
    "month_of_change_ls = []\n",
    "greatest_decrease_ls =[\"\", min_value]\n",
    "greatest_increase_ls = [\"\", max_value]"
   ]
  },
  {
   "cell_type": "code",
   "execution_count": 63,
   "metadata": {},
   "outputs": [
    {
     "name": "stdout",
     "output_type": "stream",
     "text": [
      "86\n",
      "37514694\n",
      "Feb-2012 302709.0\n",
      "Sep-2013 -2064109.0\n"
     ]
    }
   ],
   "source": [
    "# Open csv file in 'read' mode\n",
    "\n",
    "with open(budget_csvpath, 'r') as csvfile:\n",
    "\n",
    "# Pass in the csv file to the csv.reader() function with ',' as the delmiter \n",
    "\n",
    "    csvreader = csv.reader(csvfile, delimiter = ',')\n",
    "\n",
    "# Skip the header row and first data row (because there is no previous period to compare to) for revenue change\n",
    "    csv_header = next(csvreader)\n",
    "    first_row_data = next(csvreader)\n",
    "    total_months = total_months +1\n",
    "    previous_revenue = float(first_row_data[1])\n",
    "    \n",
    "    for row in csvreader:\n",
    "\n",
    "# Count total months over the entire period\n",
    "        total_months += 1\n",
    "    \n",
    "# Calculate total revenue over the entire period\n",
    "        pnl = int(row[1])\n",
    "        pnl_total += pnl\n",
    "\n",
    "        revenue_change = int(row[1]) - previous_revenue\n",
    "        revenue_change_ls += [revenue_change]\n",
    "        month_of_change_ls += row[0]\n",
    "\n",
    "# Find greatest revenue (date and amount) increase/drecrease by iterating over the list \n",
    "        if revenue_change > greatest_increase_ls[1]:\n",
    "            greatest_increase_ls[1] = revenue_change\n",
    "            greatest_increase_ls[0] = row[0]\n",
    "        if revenue_change < greatest_decrease_ls[1]:\n",
    "            greatest_decrease_ls[1] = revenue_change\n",
    "            greatest_decrease_ls[0] = row[0]\n",
    "\n",
    "# Print total months and total_pnl to visualise outcome of total months and total revenue\n",
    "print(total_months)\n",
    "print(pnl_total)\n",
    "\n",
    "# Print greatest increase and corresponding month to visualise outcome\n",
    "print(greatest_increase_ls[0], greatest_increase_ls[1])\n",
    "\n",
    "#print greatest decrease and corresponding month to visualise outcome\n",
    "print(greatest_decrease_ls[0], greatest_decrease_ls[1])"
   ]
  },
  {
   "cell_type": "code",
   "execution_count": 64,
   "metadata": {},
   "outputs": [
    {
     "name": "stdout",
     "output_type": "stream",
     "text": [
      "-2315.12\n"
     ]
    }
   ],
   "source": [
    "# Calculate average change over entire period \n",
    "average_revenue_change = revenue_change/len(revenue_change_ls)\n",
    "average_revenue_change_rnd = round(average_revenue_change, 2)\n",
    "\n",
    "# Print rounded average revenue change to visualise results\n",
    "print(average_revenue_change_rnd)"
   ]
  },
  {
   "cell_type": "code",
   "execution_count": 65,
   "metadata": {},
   "outputs": [
    {
     "name": "stdout",
     "output_type": "stream",
     "text": [
      "Financial Analysis\n",
      "------------------------------\n",
      "Total Months: 86\n",
      "Total $37514694\n",
      "Average Change: $-2315.12\n",
      "Greatest Increase in Profits: Feb-2012 ($302709.0)\n",
      "Greatest Decrease in Profits: Sep-2013 ($-2064109.0)\n",
      "\n"
     ]
    }
   ],
   "source": [
    "# Print whole of financial analysis to ensure the output correct\n",
    "\n",
    "print(f\"Financial Analysis\\n\"\n",
    "      f\"------------------------------\\n\"\n",
    "      f\"Total Months: {total_months}\\n\"\n",
    "      f\"Total ${pnl_total}\\n\"\n",
    "      f\"Average Change: ${average_revenue_change_rnd}\\n\"\n",
    "      f\"Greatest Increase in Profits: {greatest_increase_ls[0]} (${greatest_increase_ls[1]})\\n\"\n",
    "      f\"Greatest Decrease in Profits: {greatest_decrease_ls[0]} (${greatest_decrease_ls[1]})\\n\")"
   ]
  },
  {
   "cell_type": "code",
   "execution_count": 66,
   "metadata": {},
   "outputs": [],
   "source": [
    "# Set output file name\n",
    "output_path = \"output.txt\""
   ]
  },
  {
   "cell_type": "code",
   "execution_count": 67,
   "metadata": {},
   "outputs": [],
   "source": [
    "# Open output path as file object and write changes to output.txt\n",
    "\n",
    "with open(output_path, 'w') as csvfile:\n",
    "    csvfile.write(f\"Financial Analysis\\n\")\n",
    "    csvfile.write(f\"------------------------------\\n\")\n",
    "    csvfile.write(f\"Total Months: {total_months}\\n\")\n",
    "    csvfile.write(f\"Total ${pnl_total}\\n\")\n",
    "    csvfile.write(f\"Average Change: ${average_revenue_change_rnd}\\n\")\n",
    "    csvfile.write(f\"Greatest Increase in Profits: {greatest_increase_ls[0]} (${greatest_increase_ls[1]})\\n\")\n",
    "    csvfile.write(f\"Greatest Decrease in Profits: {greatest_decrease_ls[0]} (${greatest_decrease_ls[1]})\\n\")"
   ]
  },
  {
   "cell_type": "code",
   "execution_count": null,
   "metadata": {},
   "outputs": [],
   "source": []
  }
 ],
 "metadata": {
  "interpreter": {
   "hash": "4396f389b93e7269692bd3bea4c62813bbe379469bde939b058805f538feec11"
  },
  "kernelspec": {
   "display_name": "Python 3",
   "language": "python",
   "name": "python3"
  },
  "language_info": {
   "codemirror_mode": {
    "name": "ipython",
    "version": 3
   },
   "file_extension": ".py",
   "mimetype": "text/x-python",
   "name": "python",
   "nbconvert_exporter": "python",
   "pygments_lexer": "ipython3",
   "version": "3.8.8"
  }
 },
 "nbformat": 4,
 "nbformat_minor": 4
}
